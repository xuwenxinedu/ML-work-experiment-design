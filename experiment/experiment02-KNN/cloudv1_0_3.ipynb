{
  "nbformat": 4,
  "nbformat_minor": 0,
  "metadata": {
    "colab": {
      "name": "cloudv1.0.3.ipynb",
      "provenance": [],
      "collapsed_sections": []
    },
    "kernelspec": {
      "name": "python3",
      "display_name": "Python 3"
    },
    "language_info": {
      "name": "python"
    }
  },
  "cells": [
    {
      "cell_type": "code",
      "execution_count": null,
      "metadata": {
        "colab": {
          "base_uri": "https://localhost:8080/"
        },
        "id": "LcWIcv7oqYCs",
        "outputId": "845252c0-531d-4811-a4f0-71d0659ade9f"
      },
      "outputs": [
        {
          "output_type": "stream",
          "name": "stdout",
          "text": [
            "Drive already mounted at /gdrive; to attempt to forcibly remount, call drive.mount(\"/gdrive\", force_remount=True).\n",
            "/gdrive/My Drive/new\n"
          ]
        }
      ],
      "source": [
        "from google.colab import drive\n",
        "drive.mount('/gdrive')\n",
        "%cd /gdrive/My Drive/new"
      ]
    },
    {
      "cell_type": "code",
      "source": [
        "import pandas as pd\n",
        "import numpy as np\n",
        "import matplotlib.pyplot as plt\n",
        "from collections import Counter\n",
        "%matplotlib inline"
      ],
      "metadata": {
        "id": "ft-nF1ldrNZ6"
      },
      "execution_count": null,
      "outputs": []
    },
    {
      "cell_type": "code",
      "source": [
        "pic = plt.imread('0.png')\n",
        "pic = (pic*255).astype(np.uint8)\n",
        "gray = np.dot(pic, [0.2989, 0.5870, 0.1140]).astype(np.uint8)\n",
        "plt.imshow(gray, cmap = 'gray')"
      ],
      "metadata": {
        "colab": {
          "base_uri": "https://localhost:8080/",
          "height": 286
        },
        "id": "ZRWJ4GbGrP98",
        "outputId": "18f89984-9fdc-42af-b2d8-cfd16fdb8781"
      },
      "execution_count": null,
      "outputs": [
        {
          "output_type": "execute_result",
          "data": {
            "text/plain": [
              "<matplotlib.image.AxesImage at 0x7f2706990f50>"
            ]
          },
          "metadata": {},
          "execution_count": 3
        },
        {
          "output_type": "display_data",
          "data": {
            "text/plain": [
              "<Figure size 432x288 with 1 Axes>"
            ],
            "image/png": "[encoded data removed]"
          },
          "metadata": {
            "needs_background": "light"
          }
        }
      ]
    },
    {
      "cell_type": "code",
      "source": [
        "(gray[0,0]-gray[100,100])**(0.5)"
      ],
      "metadata": {
        "colab": {
          "base_uri": "https://localhost:8080/"
        },
        "id": "5jk9NMRoAR4M",
        "outputId": "01960d5f-ec3d-4537-f858-944ae8fe1f50"
      },
      "execution_count": null,
      "outputs": [
        {
          "output_type": "stream",
          "name": "stderr",
          "text": [
            "/usr/local/lib/python3.7/dist-packages/ipykernel_launcher.py:1: RuntimeWarning: overflow encountered in ubyte_scalars\n",
            "  \"\"\"Entry point for launching an IPython kernel.\n"
          ]
        },
        {
          "output_type": "execute_result",
          "data": {
            "text/plain": [
              "15.937377450509228"
            ]
          },
          "metadata": {},
          "execution_count": 4
        }
      ]
    },
    {
      "cell_type": "code",
      "source": [
        "def all_points(gray):\n",
        "  all = set()\n",
        "  for i in range(len(gray)):\n",
        "    for j in range(len(gray[0])):\n",
        "      all.add((i, j))\n",
        "  return all\n",
        "def get_center_by_set(s, gray):\n",
        "  sumx, sumy, sumc = 0, 0, 0\n",
        "  for item in s:\n",
        "    (x, y) = item\n",
        "    x, y = np.int32(x), np.int32(y)\n",
        "    sumx += x\n",
        "    sumy += y\n",
        "    sumc += gray[x, y]\n",
        "  return sumx/len(s), sumy/len(s), sumc/len(s)\n",
        "def dis(gray, a, b, c):\n",
        "  a = np.int32(a)\n",
        "  b = np.int32(b)\n",
        "  # c = np.int32(c)\n",
        "  # d = np.int32(d)\n",
        "  # return ((a-c)**2 + (b-d)**2 + ((gray[a][b]-gray[c][d])*5)**2)**(0.5)\n",
        "  return (gray[a][b]-c)**2"
      ],
      "metadata": {
        "id": "RhHvUURF5EOv"
      },
      "execution_count": null,
      "outputs": []
    },
    {
      "cell_type": "code",
      "source": [
        "def get_new_set(all_points, gray, s1, s2):\n",
        "  x1, y1, c1 = get_center_by_set(s1, gray)\n",
        "  x2, y2, c2 = get_center_by_set(s2, gray)\n",
        "  for (x, y) in all_points:\n",
        "    dis1 = dis(gray, x, y, c1)\n",
        "    dis2 = dis(gray, x, y, c2)\n",
        "    if dis1 < dis2:\n",
        "      s1.add((x, y))\n",
        "    else:\n",
        "      s2.add((x, y))\n",
        "  return s1, s2"
      ],
      "metadata": {
        "id": "MPBWBaKT6VsZ"
      },
      "execution_count": null,
      "outputs": []
    },
    {
      "cell_type": "code",
      "source": [
        "def get_ans(gray):\n",
        "  set1, set2, s1, s2 = set(),set(),set(),set()\n",
        "  set2.add((len(gray)//2, len(gray)//2))\n",
        "  set1.add((0, 0))\n",
        "  points = all_points(gray)\n",
        "  count = 0\n",
        "  while True:\n",
        "    s1, s2 = get_new_set(points, gray, set1.copy(), set2.copy())\n",
        "    if count > 20 or get_center_by_set(s1, gray)==get_center_by_set(set1, gray):\n",
        "      break\n",
        "    x1, y1, c1 = get_center_by_set(s1, gray)\n",
        "    x2, y2, c2 = get_center_by_set(s2, gray)\n",
        "    set1, set2 = {(x1, y1)}, {(x2, y2)}\n",
        "    count += 1\n",
        "  return s1, s2"
      ],
      "metadata": {
        "id": "M7yKliMx9uEk"
      },
      "execution_count": null,
      "outputs": []
    },
    {
      "cell_type": "code",
      "source": [
        "!pip install -Uqq ipdb\n",
        "import ipdb\n",
        "%pdb off"
      ],
      "metadata": {
        "colab": {
          "base_uri": "https://localhost:8080/"
        },
        "id": "fNqNRQy28FxG",
        "outputId": "acf9e8e9-1387-4f56-a433-6a1aa2b7a205"
      },
      "execution_count": null,
      "outputs": [
        {
          "output_type": "stream",
          "name": "stdout",
          "text": [
            "Automatic pdb calling has been turned OFF\n"
          ]
        }
      ]
    },
    {
      "cell_type": "code",
      "source": [
        "set1, set2 = get_ans(gray)\n",
        "for (x, y) in set1:\n",
        "  x = np.int32(x)\n",
        "  y = np.int32(y)\n",
        "  gray[x ,y] = 0\n",
        "for (x, y) in set2:\n",
        "  x = np.int32(x)\n",
        "  y = np.int32(y)\n",
        "  gray[x ,y] = 255\n",
        "plt.imshow(gray, cmap='gray')"
      ],
      "metadata": {
        "colab": {
          "base_uri": "https://localhost:8080/",
          "height": 286
        },
        "id": "rAhvcdh-7BzZ",
        "outputId": "47662c97-51ee-4a43-d38a-6b767d435529"
      },
      "execution_count": null,
      "outputs": [
        {
          "output_type": "execute_result",
          "data": {
            "text/plain": [
              "<matplotlib.image.AxesImage at 0x7f26fdacd2d0>"
            ]
          },
          "metadata": {},
          "execution_count": 9
        },
        {
          "output_type": "display_data",
          "data": {
            "text/plain": [
              "<Figure size 432x288 with 1 Axes>"
            ],
            "image/png": "[encoded data removed]"
          },
          "metadata": {
            "needs_background": "light"
          }
        }
      ]
    }
  ]
}